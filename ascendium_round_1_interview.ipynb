{
 "cells": [
  {
   "cell_type": "code",
   "execution_count": 45,
   "id": "676b8fe3-defa-479d-8b4e-1583734a5dc5",
   "metadata": {},
   "outputs": [],
   "source": [
    "def make_clock_mat(n):\n",
    "    start = True\n",
    "    current_i = 0\n",
    "    current_j = 1\n",
    "    current_direction = \"r\"\n",
    "    max_i_move = n - 1\n",
    "    max_j_move = n - 1\n",
    "    max_move = n - 2\n",
    "    current_move = 0\n",
    "    i_dict = {\n",
    "        \"l\": 0,\n",
    "        \"r\": 0,\n",
    "        \"u\": -1,\n",
    "        \"d\": 1\n",
    "    }\n",
    "    j_dict = {\n",
    "        \"l\": -1,\n",
    "        \"r\": 1,\n",
    "        \"u\": 0,\n",
    "        \"d\": 0\n",
    "    }\n",
    "    new_mat = [[1 for i in range(n)] for j in range(n)]\n",
    "    for pos in range(n ** 2 - 1):\n",
    "        current_move += 1\n",
    "        new_mat[current_i][current_j] = pos + 2\n",
    "        current_i += i_dict[current_direction]\n",
    "        current_j += j_dict[current_direction]\n",
    "        if current_move == max_move:\n",
    "            if current_direction == \"r\":\n",
    "                current_direction = \"d\"\n",
    "                if start is True:\n",
    "                    max_j_move = n - 1\n",
    "                    start = False\n",
    "                else:\n",
    "                    max_j_move -= 1\n",
    "                max_move = max_i_move\n",
    "            elif current_direction == \"l\":\n",
    "                current_direction = \"u\"\n",
    "                max_j_move -= 1\n",
    "                max_move = max_i_move\n",
    "            elif current_direction == \"u\":\n",
    "                current_direction = \"r\"\n",
    "                max_i_move -= 1\n",
    "                max_move = max_j_move\n",
    "            else:\n",
    "                current_direction = \"l\"\n",
    "                max_i_move -= 1\n",
    "                max_move = max_j_move\n",
    "            current_move = 0\n",
    "    return new_mat"
   ]
  },
  {
   "cell_type": "code",
   "execution_count": 47,
   "id": "ed89bc08-98b3-42a9-af6d-eb1db2f73723",
   "metadata": {},
   "outputs": [
    {
     "data": {
      "text/plain": [
       "[[1, 2, 3, 4], [12, 13, 14, 5], [11, 16, 15, 6], [10, 9, 8, 7]]"
      ]
     },
     "execution_count": 47,
     "metadata": {},
     "output_type": "execute_result"
    }
   ],
   "source": [
    "make_clock_mat(4)"
   ]
  },
  {
   "cell_type": "code",
   "execution_count": 48,
   "id": "bb756e00-5ee3-412f-8626-b708d1294016",
   "metadata": {},
   "outputs": [
    {
     "name": "stdout",
     "output_type": "stream",
     "text": [
      "[1, 2, 3, 4]\n",
      "[12, 13, 14, 5]\n",
      "[11, 16, 15, 6]\n",
      "[10, 9, 8, 7]\n"
     ]
    }
   ],
   "source": [
    "for i in make_clock_mat(4):\n",
    "    print(i)"
   ]
  },
  {
   "cell_type": "code",
   "execution_count": null,
   "id": "1324ac84-d264-464b-8d06-dee4f2eb7440",
   "metadata": {},
   "outputs": [],
   "source": []
  }
 ],
 "metadata": {
  "kernelspec": {
   "display_name": "Python 3 (ipykernel)",
   "language": "python",
   "name": "python3"
  },
  "language_info": {
   "codemirror_mode": {
    "name": "ipython",
    "version": 3
   },
   "file_extension": ".py",
   "mimetype": "text/x-python",
   "name": "python",
   "nbconvert_exporter": "python",
   "pygments_lexer": "ipython3",
   "version": "3.10.7"
  }
 },
 "nbformat": 4,
 "nbformat_minor": 5
}
